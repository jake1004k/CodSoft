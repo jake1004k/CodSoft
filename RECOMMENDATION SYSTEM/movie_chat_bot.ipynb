{
 "cells": [
  {
   "cell_type": "code",
   "execution_count": 1,
   "metadata": {},
   "outputs": [],
   "source": [
    "import pandas as pd\n",
    "import re\n",
    "from sklearn.metrics.pairwise import cosine_similarity"
   ]
  },
  {
   "cell_type": "code",
   "execution_count": 3,
   "metadata": {},
   "outputs": [],
   "source": [
    "ratings = pd.read_csv('ratings.dat', sep='::', header=None, engine='python',\n",
    "                      names=['user_id', 'movie_id', 'rating', 'timestamp'])\n",
    "movies = pd.read_csv('movies.dat', sep='::', header=None, engine='python',\n",
    "                     names=['movie_id', 'title', 'genres'], encoding='latin-1')"
   ]
  },
  {
   "cell_type": "code",
   "execution_count": 4,
   "metadata": {},
   "outputs": [],
   "source": [
    "user_item_matrix = ratings.pivot(index='user_id', columns='movie_id', values='rating').fillna(0)"
   ]
  },
  {
   "cell_type": "code",
   "execution_count": 5,
   "metadata": {},
   "outputs": [],
   "source": [
    "item_similarity = cosine_similarity(user_item_matrix.T)\n",
    "item_similarity_df = pd.DataFrame(item_similarity, index=user_item_matrix.columns, columns=user_item_matrix.columns)"
   ]
  },
  {
   "cell_type": "code",
   "execution_count": 6,
   "metadata": {},
   "outputs": [],
   "source": [
    "def get_movie_id(movie_title):\n",
    "    try:\n",
    "        movie_id = movies[movies['title'].str.contains(movie_title, case=False, na=False)]['movie_id'].values[0]\n",
    "        return movie_id\n",
    "    except IndexError:\n",
    "        return None"
   ]
  },
  {
   "cell_type": "code",
   "execution_count": 7,
   "metadata": {},
   "outputs": [],
   "source": [
    "def get_recommendations(movie_title, num_recommendations=5):\n",
    "    movie_id = get_movie_id(movie_title)\n",
    "    if movie_id is None:\n",
    "        return f\"Movie '{movie_title}' not found in the database.\"\n",
    "\n",
    "    similar_movies = item_similarity_df[movie_id].sort_values(ascending=False).index[1:num_recommendations+1]\n",
    "    recommended_titles = movies[movies['movie_id'].isin(similar_movies)]['title'].values\n",
    "    return recommended_titles\n",
    "\n",
    "def get_movie_titles(movie_ids):\n",
    "    return movies[movies['movie_id'].isin(movie_ids)]['title'].values\n"
   ]
  },
  {
   "cell_type": "code",
   "execution_count": 8,
   "metadata": {},
   "outputs": [],
   "source": [
    "def chatbot_response(user_input):\n",
    "    user_input = user_input.lower()\n",
    "\n",
    "    # Define patterns and corresponding responses\n",
    "    patterns = {\n",
    "        r'hello|hi': \"Hello! How can I help you today?\",\n",
    "        r'how are you': \"I'm just a bot, but I'm doing great! How about you?\",\n",
    "        r'what is your name|who are you': \"I'm a simple chatbot created to assist you.\",\n",
    "        r'help|can you recommendation a movie|movie': \"Sure, I'm here to help! You can ask me for movie recommendations by telling me a movie you like. For example, 'I like Titanic'.\",\n",
    "        r'bye|goodbye': \"Goodbye! Have a great day!\"\n",
    "    }\n",
    "\n",
    "    for pattern, response in patterns.items():\n",
    "        if re.search(pattern, user_input):\n",
    "            return response\n",
    "    \n",
    "    # Check if the user is asking for recommendations\n",
    "    if re.search(r'i like .+', user_input):\n",
    "        movie_title = re.search(r'i like (.+)', user_input).group(1)\n",
    "        recommendations = get_recommendations(movie_title)\n",
    "        if isinstance(recommendations, str):\n",
    "            return recommendations\n",
    "        if recommendations.size > 0:\n",
    "            rec_movies = ',\\n '.join(recommendations)\n",
    "            return f\"If you like '{movie_title}', you might also enjoy:\\n {rec_movies}.\"\n",
    "        else:\n",
    "            return \"I couldn't find any recommendations for this movie.\"\n",
    "    \n",
    "    # Default response if no pattern matches\n",
    "    return \"I'm sorry, I didn't understand that. Can you please rephrase?\""
   ]
  },
  {
   "cell_type": "code",
   "execution_count": 10,
   "metadata": {},
   "outputs": [
    {
     "name": "stdout",
     "output_type": "stream",
     "text": [
      "Chatbot: Hello! I am here to recommend a movie type <i like movie_name> Type 'bye' to exit.\n",
      "Chatbot: I'm sorry, I didn't understand that. Can you please rephrase?\n",
      "Chatbot: I'm sorry, I didn't understand that. Can you please rephrase?\n",
      "Chatbot: I'm sorry, I didn't understand that. Can you please rephrase?\n",
      "Chatbot: I'm sorry, I didn't understand that. Can you please rephrase?\n",
      "Chatbot: I'm sorry, I didn't understand that. Can you please rephrase?\n",
      "Chatbot: I'm sorry, I didn't understand that. Can you please rephrase?\n",
      "Chatbot: I'm sorry, I didn't understand that. Can you please rephrase?\n",
      "Chatbot: I'm sorry, I didn't understand that. Can you please rephrase?\n",
      "Chatbot: I'm sorry, I didn't understand that. Can you please rephrase?\n",
      "Chatbot: I'm sorry, I didn't understand that. Can you please rephrase?\n",
      "Chatbot: I'm sorry, I didn't understand that. Can you please rephrase?\n",
      "Chatbot: I'm sorry, I didn't understand that. Can you please rephrase?\n",
      "Chatbot: I'm sorry, I didn't understand that. Can you please rephrase?\n",
      "Chatbot: Goodbye! Have a great day!\n"
     ]
    }
   ],
   "source": [
    "def main():\n",
    "    print(\"Chatbot: Hello! I am here to recommend a movie type <i like movie_name> Type 'bye' to exit.\")\n",
    "    while True:\n",
    "        user_input = input(\"You: \")\n",
    "        if re.search(r'bye|goodbye', user_input.lower()):\n",
    "            print(\"Chatbot: Goodbye! Have a great day!\")\n",
    "            break\n",
    "        response = chatbot_response(user_input)\n",
    "        print(f\"Chatbot: {response}\")\n",
    "\n",
    "if __name__ == \"__main__\":\n",
    "    main()"
   ]
  }
 ],
 "metadata": {
  "kernelspec": {
   "display_name": "base",
   "language": "python",
   "name": "python3"
  },
  "language_info": {
   "codemirror_mode": {
    "name": "ipython",
    "version": 3
   },
   "file_extension": ".py",
   "mimetype": "text/x-python",
   "name": "python",
   "nbconvert_exporter": "python",
   "pygments_lexer": "ipython3",
   "version": "3.11.7"
  }
 },
 "nbformat": 4,
 "nbformat_minor": 2
}
